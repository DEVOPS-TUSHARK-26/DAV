{
 "cells": [
  {
   "cell_type": "code",
   "execution_count": 2,
   "id": "b562855a",
   "metadata": {},
   "outputs": [],
   "source": [
    "import numpy as np\n",
    "import pandas as pd\n",
    "import matplotlib.pyplot as ply\n",
    "from sklearn.feature_extraction.text import CountVectorizer\n",
    "from sklearn import svm"
   ]
  },
  {
   "cell_type": "code",
   "execution_count": 3,
   "id": "e5d23cb8",
   "metadata": {},
   "outputs": [],
   "source": [
    "df=pd.read_csv(r'C:\\Users\\Sneha Lalwani\\Downloads\\spam.csv')"
   ]
  },
  {
   "cell_type": "code",
   "execution_count": 4,
   "id": "bfb1e2f0",
   "metadata": {},
   "outputs": [
    {
     "data": {
      "text/html": [
       "<div>\n",
       "<style scoped>\n",
       "    .dataframe tbody tr th:only-of-type {\n",
       "        vertical-align: middle;\n",
       "    }\n",
       "\n",
       "    .dataframe tbody tr th {\n",
       "        vertical-align: top;\n",
       "    }\n",
       "\n",
       "    .dataframe thead th {\n",
       "        text-align: right;\n",
       "    }\n",
       "</style>\n",
       "<table border=\"1\" class=\"dataframe\">\n",
       "  <thead>\n",
       "    <tr style=\"text-align: right;\">\n",
       "      <th></th>\n",
       "      <th>Label</th>\n",
       "      <th>EmailText</th>\n",
       "    </tr>\n",
       "  </thead>\n",
       "  <tbody>\n",
       "    <tr>\n",
       "      <th>0</th>\n",
       "      <td>ham</td>\n",
       "      <td>Go until jurong point, crazy.. Available only ...</td>\n",
       "    </tr>\n",
       "    <tr>\n",
       "      <th>1</th>\n",
       "      <td>ham</td>\n",
       "      <td>Ok lar... Joking wif u oni...</td>\n",
       "    </tr>\n",
       "    <tr>\n",
       "      <th>2</th>\n",
       "      <td>spam</td>\n",
       "      <td>Free entry in 2 a wkly comp to win FA Cup fina...</td>\n",
       "    </tr>\n",
       "    <tr>\n",
       "      <th>3</th>\n",
       "      <td>ham</td>\n",
       "      <td>U dun say so early hor... U c already then say...</td>\n",
       "    </tr>\n",
       "    <tr>\n",
       "      <th>4</th>\n",
       "      <td>ham</td>\n",
       "      <td>Nah I don't think he goes to usf, he lives aro...</td>\n",
       "    </tr>\n",
       "  </tbody>\n",
       "</table>\n",
       "</div>"
      ],
      "text/plain": [
       "  Label                                          EmailText\n",
       "0   ham  Go until jurong point, crazy.. Available only ...\n",
       "1   ham                      Ok lar... Joking wif u oni...\n",
       "2  spam  Free entry in 2 a wkly comp to win FA Cup fina...\n",
       "3   ham  U dun say so early hor... U c already then say...\n",
       "4   ham  Nah I don't think he goes to usf, he lives aro..."
      ]
     },
     "execution_count": 4,
     "metadata": {},
     "output_type": "execute_result"
    }
   ],
   "source": [
    "df.head()"
   ]
  },
  {
   "cell_type": "code",
   "execution_count": 5,
   "id": "1b6a1865",
   "metadata": {},
   "outputs": [
    {
     "data": {
      "text/plain": [
       "(5572, 2)"
      ]
     },
     "execution_count": 5,
     "metadata": {},
     "output_type": "execute_result"
    }
   ],
   "source": [
    "df.shape"
   ]
  },
  {
   "cell_type": "code",
   "execution_count": 6,
   "id": "cac13f0f",
   "metadata": {},
   "outputs": [
    {
     "name": "stdout",
     "output_type": "stream",
     "text": [
      "<class 'pandas.core.frame.DataFrame'>\n",
      "RangeIndex: 5572 entries, 0 to 5571\n",
      "Data columns (total 2 columns):\n",
      " #   Column     Non-Null Count  Dtype \n",
      "---  ------     --------------  ----- \n",
      " 0   Label      5572 non-null   object\n",
      " 1   EmailText  5572 non-null   object\n",
      "dtypes: object(2)\n",
      "memory usage: 87.2+ KB\n"
     ]
    }
   ],
   "source": [
    "df.info()"
   ]
  },
  {
   "cell_type": "code",
   "execution_count": 7,
   "id": "569ecd21",
   "metadata": {},
   "outputs": [
    {
     "data": {
      "text/html": [
       "<div>\n",
       "<style scoped>\n",
       "    .dataframe tbody tr th:only-of-type {\n",
       "        vertical-align: middle;\n",
       "    }\n",
       "\n",
       "    .dataframe tbody tr th {\n",
       "        vertical-align: top;\n",
       "    }\n",
       "\n",
       "    .dataframe thead th {\n",
       "        text-align: right;\n",
       "    }\n",
       "</style>\n",
       "<table border=\"1\" class=\"dataframe\">\n",
       "  <thead>\n",
       "    <tr style=\"text-align: right;\">\n",
       "      <th></th>\n",
       "      <th>Label</th>\n",
       "      <th>EmailText</th>\n",
       "    </tr>\n",
       "  </thead>\n",
       "  <tbody>\n",
       "    <tr>\n",
       "      <th>count</th>\n",
       "      <td>5572</td>\n",
       "      <td>5572</td>\n",
       "    </tr>\n",
       "    <tr>\n",
       "      <th>unique</th>\n",
       "      <td>2</td>\n",
       "      <td>5169</td>\n",
       "    </tr>\n",
       "    <tr>\n",
       "      <th>top</th>\n",
       "      <td>ham</td>\n",
       "      <td>Sorry, I'll call later</td>\n",
       "    </tr>\n",
       "    <tr>\n",
       "      <th>freq</th>\n",
       "      <td>4825</td>\n",
       "      <td>30</td>\n",
       "    </tr>\n",
       "  </tbody>\n",
       "</table>\n",
       "</div>"
      ],
      "text/plain": [
       "       Label               EmailText\n",
       "count   5572                    5572\n",
       "unique     2                    5169\n",
       "top      ham  Sorry, I'll call later\n",
       "freq    4825                      30"
      ]
     },
     "execution_count": 7,
     "metadata": {},
     "output_type": "execute_result"
    }
   ],
   "source": [
    "df.describe()"
   ]
  },
  {
   "cell_type": "code",
   "execution_count": 8,
   "id": "004b39a7",
   "metadata": {},
   "outputs": [],
   "source": [
    "X=df['EmailText'].values\n",
    "y=df['Label'].values"
   ]
  },
  {
   "cell_type": "code",
   "execution_count": 9,
   "id": "034d9c64",
   "metadata": {},
   "outputs": [],
   "source": [
    "from sklearn.model_selection import train_test_split\n",
    "X_train,X_test,y_train,y_test=train_test_split(X,y,train_size=0.8,random_state=42)"
   ]
  },
  {
   "cell_type": "code",
   "execution_count": 11,
   "id": "839a4405",
   "metadata": {},
   "outputs": [],
   "source": [
    "cv=CountVectorizer()\n",
    "X_train=cv.fit_transform(X_train)\n",
    "X_test=cv.transform(X_test)"
   ]
  },
  {
   "cell_type": "code",
   "execution_count": 12,
   "id": "d3225ed8",
   "metadata": {},
   "outputs": [
    {
     "name": "stdout",
     "output_type": "stream",
     "text": [
      "  (0, 4784)\t1\n",
      "  (0, 3645)\t1\n",
      "  (0, 6799)\t1\n",
      "  (0, 5883)\t1\n",
      "  (0, 1416)\t1\n",
      "  (0, 6468)\t1\n",
      "  (0, 3424)\t1\n",
      "  (0, 1106)\t1\n",
      "  (0, 4657)\t1\n",
      "  (0, 4559)\t1\n",
      "  (0, 1762)\t1\n",
      "  (0, 4400)\t1\n",
      "  (0, 4999)\t1\n",
      "  (0, 4923)\t1\n",
      "  (0, 7691)\t1\n",
      "  (0, 3315)\t1\n",
      "  (0, 4672)\t1\n",
      "  (1, 1219)\t1\n",
      "  (1, 4880)\t1\n",
      "  (1, 3244)\t1\n",
      "  (1, 3758)\t1\n",
      "  (1, 6507)\t1\n",
      "  (1, 1583)\t1\n",
      "  (1, 2748)\t1\n",
      "  (1, 5189)\t1\n",
      "  :\t:\n",
      "  (4452, 1837)\t1\n",
      "  (4452, 1632)\t1\n",
      "  (4452, 3540)\t1\n",
      "  (4452, 3517)\t1\n",
      "  (4453, 1612)\t1\n",
      "  (4453, 4156)\t1\n",
      "  (4453, 4027)\t1\n",
      "  (4453, 6312)\t1\n",
      "  (4454, 3391)\t1\n",
      "  (4454, 5346)\t1\n",
      "  (4454, 6319)\t1\n",
      "  (4454, 5601)\t1\n",
      "  (4454, 3035)\t1\n",
      "  (4454, 6318)\t1\n",
      "  (4455, 3849)\t1\n",
      "  (4455, 4838)\t1\n",
      "  (4455, 6014)\t1\n",
      "  (4455, 6935)\t1\n",
      "  (4456, 3645)\t2\n",
      "  (4456, 4834)\t1\n",
      "  (4456, 3189)\t1\n",
      "  (4456, 3368)\t1\n",
      "  (4456, 7575)\t1\n",
      "  (4456, 2843)\t1\n",
      "  (4456, 4474)\t1\n"
     ]
    }
   ],
   "source": [
    "print(X_train)"
   ]
  },
  {
   "cell_type": "code",
   "execution_count": 13,
   "id": "abdffb66",
   "metadata": {},
   "outputs": [
    {
     "name": "stdout",
     "output_type": "stream",
     "text": [
      "  (0, 1812)\t1\n",
      "  (0, 2766)\t1\n",
      "  (0, 3074)\t1\n",
      "  (0, 3344)\t1\n",
      "  (0, 3575)\t1\n",
      "  (0, 3881)\t1\n",
      "  (0, 4696)\t1\n",
      "  (0, 4784)\t1\n",
      "  (0, 4787)\t1\n",
      "  (0, 7053)\t1\n",
      "  (0, 7499)\t1\n",
      "  (1, 924)\t1\n",
      "  (1, 956)\t1\n",
      "  (1, 1037)\t1\n",
      "  (1, 1991)\t1\n",
      "  (1, 2027)\t1\n",
      "  (1, 2380)\t2\n",
      "  (1, 2738)\t1\n",
      "  (1, 2843)\t1\n",
      "  (1, 2961)\t1\n",
      "  (1, 3305)\t1\n",
      "  (1, 3423)\t1\n",
      "  (1, 3608)\t1\n",
      "  (1, 3747)\t1\n",
      "  (1, 3845)\t1\n",
      "  :\t:\n",
      "  (1111, 7165)\t1\n",
      "  (1111, 7401)\t1\n",
      "  (1111, 7440)\t1\n",
      "  (1112, 3368)\t1\n",
      "  (1112, 4505)\t1\n",
      "  (1112, 4625)\t1\n",
      "  (1112, 6264)\t2\n",
      "  (1112, 6776)\t1\n",
      "  (1112, 6794)\t1\n",
      "  (1112, 7492)\t1\n",
      "  (1112, 7679)\t1\n",
      "  (1112, 7696)\t1\n",
      "  (1113, 2429)\t1\n",
      "  (1113, 3136)\t1\n",
      "  (1113, 3424)\t1\n",
      "  (1113, 6799)\t1\n",
      "  (1114, 305)\t1\n",
      "  (1114, 1293)\t1\n",
      "  (1114, 1354)\t1\n",
      "  (1114, 1455)\t1\n",
      "  (1114, 3368)\t1\n",
      "  (1114, 4245)\t1\n",
      "  (1114, 4734)\t1\n",
      "  (1114, 5258)\t1\n",
      "  (1114, 7696)\t1\n"
     ]
    }
   ],
   "source": [
    "print(X_test)"
   ]
  },
  {
   "cell_type": "code",
   "execution_count": 14,
   "id": "f45a83cd",
   "metadata": {},
   "outputs": [
    {
     "name": "stdout",
     "output_type": "stream",
     "text": [
      "0.979372197309417\n"
     ]
    }
   ],
   "source": [
    "from sklearn.svm import SVC\n",
    "classifier=SVC(kernel='rbf',random_state=42)\n",
    "classifier.fit(X_train,y_train)\n",
    "print(classifier.score(X_test,y_test))"
   ]
  },
  {
   "cell_type": "code",
   "execution_count": 15,
   "id": "99bfe1a8",
   "metadata": {},
   "outputs": [],
   "source": [
    "y_pred=classifier.predict(X_test)"
   ]
  },
  {
   "cell_type": "code",
   "execution_count": 19,
   "id": "bde0f2ab",
   "metadata": {},
   "outputs": [],
   "source": [
    "y_test=cv.transform(y_test)"
   ]
  },
  {
   "cell_type": "code",
   "execution_count": null,
   "id": "bdff1b9f",
   "metadata": {},
   "outputs": [],
   "source": []
  },
  {
   "cell_type": "code",
   "execution_count": 20,
   "id": "e0c043c6",
   "metadata": {},
   "outputs": [
    {
     "name": "stdout",
     "output_type": "stream",
     "text": [
      "0.8860986547085202\n"
     ]
    }
   ],
   "source": [
    "print(classifier.score(y_test,y_pred))"
   ]
  },
  {
   "cell_type": "code",
   "execution_count": 21,
   "id": "dfe9631f",
   "metadata": {},
   "outputs": [],
   "source": [
    "import seaborn as sns"
   ]
  },
  {
   "cell_type": "code",
   "execution_count": 22,
   "id": "f2321bef",
   "metadata": {},
   "outputs": [
    {
     "name": "stderr",
     "output_type": "stream",
     "text": [
      "C:\\Users\\Sneha Lalwani\\anaconda3\\lib\\site-packages\\seaborn\\_decorators.py:36: FutureWarning: Pass the following variable as a keyword arg: x. From version 0.12, the only valid positional argument will be `data`, and passing other arguments without an explicit keyword will result in an error or misinterpretation.\n",
      "  warnings.warn(\n"
     ]
    },
    {
     "data": {
      "text/plain": [
       "<AxesSubplot:xlabel='Label', ylabel='count'>"
      ]
     },
     "execution_count": 22,
     "metadata": {},
     "output_type": "execute_result"
    },
    {
     "data": {
      "image/png": "[encoded data removed]",
      "text/plain": [
       "<Figure size 432x288 with 1 Axes>"
      ]
     },
     "metadata": {
      "needs_background": "light"
     },
     "output_type": "display_data"
    }
   ],
   "source": [
    "sns.countplot(df['Label'])"
   ]
  },
  {
   "cell_type": "code",
   "execution_count": null,
   "id": "5fde9287",
   "metadata": {},
   "outputs": [],
   "source": []
  }
 ],
 "metadata": {
  "kernelspec": {
   "display_name": "Python 3 (ipykernel)",
   "language": "python",
   "name": "python3"
  },
  "language_info": {
   "codemirror_mode": {
    "name": "ipython",
    "version": 3
   },
   "file_extension": ".py",
   "mimetype": "text/x-python",
   "name": "python",
   "nbconvert_exporter": "python",
   "pygments_lexer": "ipython3",
   "version": "3.9.7"
  }
 },
 "nbformat": 4,
 "nbformat_minor": 5
}
